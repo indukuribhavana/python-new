{
  "nbformat": 4,
  "nbformat_minor": 0,
  "metadata": {
    "colab": {
      "name": "Python RegEx.ipynb",
      "provenance": [],
      "collapsed_sections": [],
      "authorship_tag": "ABX9TyNdLcRHiq/GPTrAtmvMmZbK",
      "include_colab_link": true
    },
    "kernelspec": {
      "name": "python3",
      "display_name": "Python 3"
    },
    "language_info": {
      "name": "python"
    }
  },
  "cells": [
    {
      "cell_type": "markdown",
      "metadata": {
        "id": "view-in-github",
        "colab_type": "text"
      },
      "source": [
        "<a href=\"https://colab.research.google.com/github/indukuribhavana/python-new/blob/Module-5/Python_RegEx.ipynb\" target=\"_parent\"><img src=\"https://colab.research.google.com/assets/colab-badge.svg\" alt=\"Open In Colab\"/></a>"
      ]
    },
    {
      "cell_type": "code",
      "execution_count": null,
      "metadata": {
        "colab": {
          "base_uri": "https://localhost:8080/"
        },
        "id": "PzIo0fspKADf",
        "outputId": "a664378e-1b4b-4810-cdd8-4b1048d7cb5e"
      },
      "outputs": [
        {
          "output_type": "stream",
          "name": "stdout",
          "text": [
            "match\n"
          ]
        }
      ],
      "source": [
        "##Print a list of all matches\n",
        "txt = \"I am Bhavana studying in Gitam university first year\"\n",
        "import re\n",
        "x = re.search(\"Bhavana\",txt)\n",
        "if x:\n",
        "  print(\"match\")\n",
        "else:\n",
        "    print(\"not matched\")"
      ]
    },
    {
      "cell_type": "code",
      "source": [
        "###Return an empty list if no match was found\n",
        "txt = \"I am Bhavana studying in Gitam university first year\"\n",
        "import re\n",
        "x = re.search(\"Rakshitha\",txt)\n",
        "if x:\n",
        "  print(\"match\")\n",
        "else:\n",
        "    print(\"not matched\")"
      ],
      "metadata": {
        "colab": {
          "base_uri": "https://localhost:8080/"
        },
        "id": "1jUxFW1JLsb7",
        "outputId": "3d59bfe7-9e7d-4f4c-f0cd-4681bb3c5a45"
      },
      "execution_count": null,
      "outputs": [
        {
          "output_type": "stream",
          "name": "stdout",
          "text": [
            "not matched\n"
          ]
        }
      ]
    },
    {
      "cell_type": "code",
      "source": [
        "##Print a list of all matches\n",
        "txt = \"At an elevation of about 3200 ft, Araku is famous for its coffee plantations surrounded by beautiful gardens, streams, waterfalls and valleys that are covered with lush green forests. Situated in the Eastern Ghats, the hill station is about 112 km southeast of Vishakhapatnam.\"\n",
        "import re\n",
        "x=re.search(\"elevation\",txt)\n",
        "if x:\n",
        "  print(\"match\")\n",
        "else:\n",
        "  print(\"not matched\")"
      ],
      "metadata": {
        "colab": {
          "base_uri": "https://localhost:8080/"
        },
        "id": "PRTgLP3VL8zS",
        "outputId": "46da21ba-0248-4b86-824e-171c57dd0923"
      },
      "execution_count": null,
      "outputs": [
        {
          "output_type": "stream",
          "name": "stdout",
          "text": [
            "match\n"
          ]
        }
      ]
    },
    {
      "cell_type": "code",
      "source": [
        "txt = \"At an elevation of about 3200 ft, Araku is famous for its coffee plantations surrounded by beautiful\"\n",
        "\"gardens, streams, waterfalls and valleys that are covered with lush green forests\"\n",
        "\"Situated in the Eastern Ghats, the hill station is about 112 km southeast of Vishakhapatnam.\"\n",
        "import re\n",
        "x = re.findall(\"[a-i]\",txt)\n",
        "if x:\n",
        " print(x)"
      ],
      "metadata": {
        "colab": {
          "base_uri": "https://localhost:8080/"
        },
        "id": "sX-8V1NjNZ_a",
        "outputId": "214a1669-da8c-4c8e-d7b5-49deacf32863"
      },
      "execution_count": null,
      "outputs": [
        {
          "output_type": "stream",
          "name": "stdout",
          "text": [
            "['a', 'e', 'e', 'a', 'i', 'f', 'a', 'b', 'f', 'a', 'i', 'f', 'a', 'f', 'i', 'c', 'f', 'f', 'e', 'e', 'a', 'a', 'i', 'd', 'e', 'd', 'b', 'b', 'e', 'a', 'i', 'f']\n"
          ]
        }
      ]
    },
    {
      "cell_type": "code",
      "source": [
        "###Search for the first white-space character in the string\n",
        "txt = \"a6\"\n",
        "import re\n",
        "x = re.split(\"\\s\", txt, 1)\n",
        "print(x)"
      ],
      "metadata": {
        "colab": {
          "base_uri": "https://localhost:8080/"
        },
        "id": "33FWdL_pOaQi",
        "outputId": "fcbb5a21-73ab-4a99-b7a6-e2eec4c2dd2e"
      },
      "execution_count": null,
      "outputs": [
        {
          "output_type": "stream",
          "name": "stdout",
          "text": [
            "['a6']\n"
          ]
        }
      ]
    },
    {
      "cell_type": "code",
      "source": [
        "###Split at each white-space character\n",
        "txt = \"At an elevation of about 3200 ft, Araku is famous for its coffee plantations surrounded by beautiful\"\n",
        "\"gardens, streams, waterfalls and valleys that are covered with lush green forests\"\n",
        "\"Situated in the Eastern Ghats, the hill station is about 112 km southeast of Vishakhapatnam.\"\n",
        "import re\n",
        "x = re.split(\"\\s\", txt)\n",
        "print(x)"
      ],
      "metadata": {
        "colab": {
          "base_uri": "https://localhost:8080/"
        },
        "id": "9q0bBuIJqF5I",
        "outputId": "4449c02e-f02c-4f71-c0bf-e44dc8aaea7a"
      },
      "execution_count": null,
      "outputs": [
        {
          "output_type": "stream",
          "name": "stdout",
          "text": [
            "['At', 'an', 'elevation', 'of', 'about', '3200', 'ft,', 'Araku', 'is', 'famous', 'for', 'its', 'coffee', 'plantations', 'surrounded', 'by', 'beautiful']\n"
          ]
        }
      ]
    },
    {
      "cell_type": "code",
      "source": [
        "###Replace every white-space character with the number 5\n",
        "txt = \"At an elevation of about 3200 ft, Araku is famous for its coffee plantations surrounded by beautiful\"\n",
        "\"gardens, streams, waterfalls and valleys that are covered with lush green forests\"\n",
        "\"Situated in the Eastern Ghats, the hill station is about 112 km southeast of Vishakhapatnam.\"\n",
        "import re\n",
        "x = re.sub(\"\\s\", \"5\", txt)\n",
        "print(x)"
      ],
      "metadata": {
        "colab": {
          "base_uri": "https://localhost:8080/"
        },
        "id": "0v5BhsfKq2Vx",
        "outputId": "6956931f-60e1-4076-e4bc-794ff69aeec3"
      },
      "execution_count": null,
      "outputs": [
        {
          "output_type": "stream",
          "name": "stdout",
          "text": [
            "At5an5elevation5of5about532005ft,5Araku5is5famous5for5its5coffee5plantations5surrounded5by5beautiful\n"
          ]
        }
      ]
    },
    {
      "cell_type": "code",
      "source": [
        "###Replace the first 2 occurrences:\n",
        "txt = \"At an elevation of about 3200 ft, Araku is famous for its coffee plantations surrounded by beautiful\"\n",
        "\"gardens, streams, waterfalls and valleys that are covered with lush green forests\"\n",
        "\"Situated in the Eastern Ghats, the hill station is about 112 km southeast of Vishakhapatnam.\"\n",
        "import re\n",
        "x = re.sub(\"\\s\", \"8\", txt, 3)\n",
        "print(x)"
      ],
      "metadata": {
        "colab": {
          "base_uri": "https://localhost:8080/"
        },
        "id": "LYs62d002pUY",
        "outputId": "1d57f71f-c571-4fe0-d756-d876ca10fc8c"
      },
      "execution_count": null,
      "outputs": [
        {
          "output_type": "stream",
          "name": "stdout",
          "text": [
            "At8an8elevation8of about 3200 ft, Araku is famous for its coffee plantations surrounded by beautiful\n"
          ]
        }
      ]
    },
    {
      "cell_type": "code",
      "source": [
        "###Do a search that will return a Match Object:\n",
        "txt = \"At an elevation of about 3200 ft, Araku is famous for its coffee plantations surrounded by beautiful\"\n",
        "\"gardens, streams, waterfalls and valleys that are covered with lush green forests\"\n",
        "\"Situated in the Eastern Ghats, the hill station is about 112 km southeast of Vishakhapatnam.\"\n",
        "import re\n",
        "x = re.search(\"co\", txt)\n",
        "print(x)\n"
      ],
      "metadata": {
        "id": "YgsLsWWj3OIy",
        "colab": {
          "base_uri": "https://localhost:8080/"
        },
        "outputId": "75d8419f-3594-4e68-c478-f2d3ab11be7f"
      },
      "execution_count": null,
      "outputs": [
        {
          "output_type": "stream",
          "name": "stdout",
          "text": [
            "<re.Match object; span=(58, 60), match='co'>\n"
          ]
        }
      ]
    },
    {
      "cell_type": "code",
      "source": [
        "## Reg Ex in python\n",
        "import re\n",
        "txt = \"At an elevation of about 3200 ft, Araku is famous for its coffee plantations surrounded by beautiful\"\n",
        "\"gardens, streams, waterfalls and valleys that are covered with lush green forests\"\n",
        "\"Situated in the Eastern Ghats, the hill station is about 112 km southeast of Vishakhapatnam.\"\n",
        "x = re.findall(\"Portugal\", txt)\n",
        "print(x)"
      ],
      "metadata": {
        "id": "Lsv-rDqNX1o5",
        "outputId": "2c4aeadf-dc9a-4fa8-e6c1-bab401b3e275",
        "colab": {
          "base_uri": "https://localhost:8080/"
        }
      },
      "execution_count": 1,
      "outputs": [
        {
          "output_type": "stream",
          "name": "stdout",
          "text": [
            "[]\n"
          ]
        }
      ]
    },
    {
      "cell_type": "code",
      "source": [
        "import re\n",
        "txt =  \"At an elevation of about 3200 ft, Araku is famous for its coffee plantations surrounded by beautiful\"\n",
        "\"gardens, streams, waterfalls and valleys that are covered with lush green forests\"\n",
        "\"Situated in the Eastern Ghats, the hill station is about 112 km southeast of Vishakhapatnam.\"\n",
        "x = re.search(\"\\s\", txt)\n",
        "print(\"The first white-space character is located in position:\", x.start())"
      ],
      "metadata": {
        "id": "zY9OhrobYWf7",
        "outputId": "a3e90c21-e7a1-4cfd-a779-f931a81bfc9b",
        "colab": {
          "base_uri": "https://localhost:8080/"
        }
      },
      "execution_count": 3,
      "outputs": [
        {
          "output_type": "stream",
          "name": "stdout",
          "text": [
            "The first white-space character is located in position: 2\n"
          ]
        }
      ]
    },
    {
      "cell_type": "code",
      "source": [
        "import re\n",
        "txt =  \"At an elevation of about 3200 ft, Araku is famous for its coffee plantations surrounded by beautiful\"\n",
        "\"gardens, streams, waterfalls and valleys that are covered with lush green forests\"\n",
        "\"Situated in the Eastern Ghats, the hill station is about 112 km southeast of Vishakhapatnam.\"\n",
        "x = re.search(\"portugal\", txt)\n",
        "print(x)"
      ],
      "metadata": {
        "id": "-iRH-5CWYqfL",
        "outputId": "7d23597c-4fd8-4f45-85ed-21a6fd5460db",
        "colab": {
          "base_uri": "https://localhost:8080/"
        }
      },
      "execution_count": 6,
      "outputs": [
        {
          "output_type": "stream",
          "name": "stdout",
          "text": [
            "None\n"
          ]
        }
      ]
    },
    {
      "cell_type": "code",
      "source": [
        "## find all\n",
        "import re\n",
        "txt = \"At an elevation of about 3200 ft, Araku is famous for its coffee plantations surrounded by beautiful\"\n",
        "\"gardens, streams, waterfalls and valleys that are covered with lush green forests\"\n",
        "\"Situated in the Eastern Ghats, the hill station is about 112 km southeast of Vishakhapatnam.\"\n",
        "x = re.findall(\"e\", txt)\n",
        "print(x)"
      ],
      "metadata": {
        "id": "fDLRlcDTZAbu",
        "outputId": "e94d6658-1284-45f1-b3d5-f21d790f7f15",
        "colab": {
          "base_uri": "https://localhost:8080/"
        }
      },
      "execution_count": 7,
      "outputs": [
        {
          "output_type": "stream",
          "name": "stdout",
          "text": [
            "['e', 'e', 'e', 'e', 'e', 'e']\n"
          ]
        }
      ]
    },
    {
      "cell_type": "code",
      "source": [
        "# Meta characters\n",
        "## Check if the string starts with 'hello':\n",
        "import re\n",
        "txt =  \"At an elevation of about 3200 ft, Araku is famous for its coffee plantations surrounded by beautiful\"\n",
        "\"gardens, streams, waterfalls and valleys that are covered with lush green forests\"\n",
        "\"Situated in the Eastern Ghats, the hill station is about 112 km southeast of Vishakhapatnam.\"\n",
        "x = re.findall(\"^hello\", txt)\n",
        "if x:\n",
        "  print(\"Yes, the string starts with 'hello'\")\n",
        "else:\n",
        "  print(\"No match\")"
      ],
      "metadata": {
        "id": "dDu-t2WRZkCV",
        "outputId": "df7e48c0-c8cc-4fc6-8fb0-28e3fa6404fc",
        "colab": {
          "base_uri": "https://localhost:8080/"
        }
      },
      "execution_count": 9,
      "outputs": [
        {
          "output_type": "stream",
          "name": "stdout",
          "text": [
            "No match\n"
          ]
        }
      ]
    },
    {
      "cell_type": "code",
      "source": [
        "#Find all lower case characters alphabetically between \"a\" and \"m\":\n",
        "import re\n",
        "txt = \"At an elevation of about 3200 ft, Araku is famous for its coffee plantations surrounded by beautiful\"\n",
        "\"gardens, streams, waterfalls and valleys that are covered with lush green forests\"\n",
        "\"Situated in the Eastern Ghats, the hill station is about 112 km southeast of Vishakhapatnam.\"\n",
        "x = re.findall(\"[a-d]\", txt)\n",
        "print(x)"
      ],
      "metadata": {
        "id": "BUFTVs3nZ_eX",
        "outputId": "91e3e129-26d4-4775-9223-cccfc016320a",
        "colab": {
          "base_uri": "https://localhost:8080/"
        }
      },
      "execution_count": 10,
      "outputs": [
        {
          "output_type": "stream",
          "name": "stdout",
          "text": [
            "['a', 'a', 'a', 'b', 'a', 'a', 'c', 'a', 'a', 'd', 'd', 'b', 'b', 'a']\n"
          ]
        }
      ]
    },
    {
      "cell_type": "code",
      "source": [
        "## find all digit characters\n",
        "import re\n",
        "txt = \"At an elevation of about 3200 ft, Araku is famous for its coffee plantations surrounded by beautiful\"\n",
        "\"gardens, streams, waterfalls and valleys that are covered with lush green forests\"\n",
        "\"Situated in the Eastern Ghats, the hill station is about 112 km southeast of Vishakhapatnam.\"\n",
        "x = re.findall(\"\\d\", txt)\n",
        "print(x)"
      ],
      "metadata": {
        "id": "6H1RmI8RaTeZ",
        "outputId": "b080743b-7eac-4465-f5de-08379da79ff5",
        "colab": {
          "base_uri": "https://localhost:8080/"
        }
      },
      "execution_count": 11,
      "outputs": [
        {
          "output_type": "stream",
          "name": "stdout",
          "text": [
            "['3', '2', '0', '0']\n"
          ]
        }
      ]
    },
    {
      "cell_type": "code",
      "source": [
        "#Search for a sequence that starts with \"he\", followed by two (any) characters, and an \"o\":\n",
        "import re\n",
        "txt =  \"At an elevation of about 3200 ft, Araku is famous for its coffee plantations surrounded by beautiful\"\n",
        "\"gardens, streams, waterfalls and valleys that are covered with lush green forests\"\n",
        "\"Situated in the Eastern Ghats, the hill station is about 112 km southeast of Vishakhapatnam.\"\n",
        "x = re.findall(\"Ea...rn\", txt)\n",
        "print(x)"
      ],
      "metadata": {
        "id": "M-E9PLZ4adO0",
        "outputId": "c8efb608-49fd-4601-b1a4-870d1a7974fb",
        "colab": {
          "base_uri": "https://localhost:8080/"
        }
      },
      "execution_count": 12,
      "outputs": [
        {
          "output_type": "stream",
          "name": "stdout",
          "text": [
            "[]\n"
          ]
        }
      ]
    },
    {
      "cell_type": "code",
      "source": [
        "#Check if the string ends with 'planet':\n",
        "import re\n",
        "txt =   \"At an elevation of about 3200 ft, Araku is famous for its coffee plantations surrounded by beautiful\"\n",
        "\"gardens, streams, waterfalls and valleys that are covered with lush green forests\"\n",
        "\"Situated in the Eastern Ghats, the hill station is about 112 km southeast of Vishakhapatnam.\"\n",
        "x = re.findall(\"today$\", txt)\n",
        "if x:\n",
        "  print(\"Yes, the string ends with 'planet'\")\n",
        "else:\n",
        "  print(\"No match\")"
      ],
      "metadata": {
        "id": "F11cQALSa6qV",
        "outputId": "8a0ec435-0dc7-4be6-9caa-5a35b0716401",
        "colab": {
          "base_uri": "https://localhost:8080/"
        }
      },
      "execution_count": 13,
      "outputs": [
        {
          "output_type": "stream",
          "name": "stdout",
          "text": [
            "No match\n"
          ]
        }
      ]
    },
    {
      "cell_type": "code",
      "source": [
        "#Search for a sequence that starts with \"he\", followed by 0 or more  (any) characters, and an \"o\":\n",
        "import re\n",
        "txt = \"At an elevation of about 3200 ft, Araku is famous for its coffee plantations surrounded by beautiful\"\n",
        "\"gardens, streams, waterfalls and valleys that are covered with lush green forests\"\n",
        "\"Situated in the Eastern Ghats, the hill station is about 112 km southeast of Vishakhapatnam.\"\n",
        "x = re.findall(\"ty.*s\", txt)\n",
        "print(x)"
      ],
      "metadata": {
        "id": "0WW3uAEBbEZR",
        "outputId": "e8fe0cdc-18b6-42cd-84ff-32239eb97aa3",
        "colab": {
          "base_uri": "https://localhost:8080/"
        }
      },
      "execution_count": 14,
      "outputs": [
        {
          "output_type": "stream",
          "name": "stdout",
          "text": [
            "[]\n"
          ]
        }
      ]
    },
    {
      "cell_type": "code",
      "source": [
        "#Search for a sequence that starts with \"he\", followed by 1 or more  (any) characters, and an \"o\": \n",
        "import re\n",
        "txt = \"At an elevation of about 3200 ft, Araku is famous for its coffee plantations surrounded by beautiful\"\n",
        "\"gardens, streams, waterfalls and valleys that are covered with lush green forests\"\n",
        "\"Situated in the Eastern Ghats, the hill station is about 112 km southeast of Vishakhapatnam.\" \n",
        "x = re.findall(\"Ea...rn\", txt)\n",
        "print(x)"
      ],
      "metadata": {
        "id": "uMBTCAq3bPbR",
        "outputId": "a6c1e0a5-d635-4527-f808-20b11f47c675",
        "colab": {
          "base_uri": "https://localhost:8080/"
        }
      },
      "execution_count": 15,
      "outputs": [
        {
          "output_type": "stream",
          "name": "stdout",
          "text": [
            "[]\n"
          ]
        }
      ]
    },
    {
      "cell_type": "code",
      "source": [
        "#Search for a sequence that starts with \"he\", followed by 0 or 1  (any) character, and an \"o\":\n",
        "import re\n",
        "txt =  \"At an elevation of about 3200 ft, Araku is famous for its coffee plantations surrounded by beautiful\"\n",
        "\"gardens, streams, waterfalls and valleys that are covered with lush green forests\"\n",
        "\"Situated in the Eastern Ghats, the hill station is about 112 km southeast of Vishakhapatnam.\" \n",
        "x = re.findall(\"ti.?s\", txt)\n",
        "print(x)"
      ],
      "metadata": {
        "id": "HEwUJbccbcuU",
        "outputId": "a9513119-a81d-4d0e-e41b-dfee3c870313",
        "colab": {
          "base_uri": "https://localhost:8080/"
        }
      },
      "execution_count": 16,
      "outputs": [
        {
          "output_type": "stream",
          "name": "stdout",
          "text": [
            "[]\n"
          ]
        }
      ]
    },
    {
      "cell_type": "code",
      "source": [
        "#Search for a sequence that starts with \"he\", followed excactly 2 (any) characters, and an \"o\":\n",
        "import re\n",
        "txt = \"At an elevation of about 3200 ft, Araku is famous for its coffee plantations surrounded by beautiful\"\n",
        "\"gardens, streams, waterfalls and valleys that are covered with lush green forests\"\n",
        "\"Situated in the Eastern Ghats, the hill station is about 112 km southeast of Vishakhapatnam.\" \n",
        "x = re.findall(\"ev.{5}y\", txt)\n",
        "print(x)"
      ],
      "metadata": {
        "id": "2MUx6-l2bitb",
        "outputId": "c8d7ae86-66c0-4975-8064-d67b137f328e",
        "colab": {
          "base_uri": "https://localhost:8080/"
        }
      },
      "execution_count": 17,
      "outputs": [
        {
          "output_type": "stream",
          "name": "stdout",
          "text": [
            "[]\n"
          ]
        }
      ]
    },
    {
      "cell_type": "code",
      "source": [
        "#Check if the string contains either \"falls\" or \"stays\":\n",
        "import re\n",
        "txt = \"At an elevation of about 3200 ft, Araku is famous for its coffee plantations surrounded by beautiful\"\n",
        "\"gardens, streams, waterfalls and valleys that are covered with lush green forests\"\n",
        "\"Situated in the Eastern Ghats, the hill station is about 112 km southeast of Vishakhapatnam.\" \n",
        "x = re.findall(\"you|stays\", txt)\n",
        "print(x)\n",
        "if x:\n",
        "  print(\"Yes, there is at least one match!\")\n",
        "else:\n",
        "  print(\"No match\")"
      ],
      "metadata": {
        "id": "rvR-oIu_bsqA",
        "outputId": "3afcbbd0-0f07-4e36-d03a-461bbc619a02",
        "colab": {
          "base_uri": "https://localhost:8080/"
        }
      },
      "execution_count": 18,
      "outputs": [
        {
          "output_type": "stream",
          "name": "stdout",
          "text": [
            "[]\n",
            "No match\n"
          ]
        }
      ]
    },
    {
      "cell_type": "code",
      "source": [
        "### special sequences\n",
        "#Check if the string starts with \"The\":\n",
        "import re\n",
        "txt = \"At an elevation of about 3200 ft, Araku is famous for its coffee plantations surrounded by beautiful\"\n",
        "\"gardens, streams, waterfalls and valleys that are covered with lush green forests\"\n",
        "\"Situated in the Eastern Ghats, the hill station is about 112 km southeast of Vishakhapatnam.\" \n",
        "x = re.findall(\"\\Aare\", txt)\n",
        "print(x)\n",
        "if x:\n",
        "  print(\"Yes, there is a match!\")\n",
        "else:\n",
        "  print(\"No match\")"
      ],
      "metadata": {
        "id": "uUKDnwGPb0Y_",
        "outputId": "9bab48ae-dd06-4d2e-8f3e-2b53eaf41bc1",
        "colab": {
          "base_uri": "https://localhost:8080/"
        }
      },
      "execution_count": 19,
      "outputs": [
        {
          "output_type": "stream",
          "name": "stdout",
          "text": [
            "[]\n",
            "No match\n"
          ]
        }
      ]
    },
    {
      "cell_type": "code",
      "source": [
        "#Check if \"ain\" is present at the beginning of a WORD:\n",
        "import re\n",
        "txt = \"At an elevation of about 3200 ft, Araku is famous for its coffee plantations surrounded by beautiful\"\n",
        "\"gardens, streams, waterfalls and valleys that are covered with lush green forests\"\n",
        "\"Situated in the Eastern Ghats, the hill station is about 112 km southeast of Vishakhapatnam.\" \n",
        "x = re.findall(r\"\\bain\", txt)\n",
        "print(x)\n",
        "if x:\n",
        "  print(\"Yes, there is at least one match!\")\n",
        "else:\n",
        "  print(\"No match\")"
      ],
      "metadata": {
        "id": "zDvgNXxrb6tl",
        "outputId": "4d8df4ea-3056-4e83-b47c-e809159b56ce",
        "colab": {
          "base_uri": "https://localhost:8080/"
        }
      },
      "execution_count": 20,
      "outputs": [
        {
          "output_type": "stream",
          "name": "stdout",
          "text": [
            "[]\n",
            "No match\n"
          ]
        }
      ]
    },
    {
      "cell_type": "code",
      "source": [
        "#Check if \"ain\" is present at the beginning of a WORD:\n",
        "import re\n",
        "txt = \"At an elevation of about 3200 ft, Araku is famous for its coffee plantations surrounded by beautiful\"\n",
        "\"gardens, streams, waterfalls and valleys that are covered with lush green forests\"\n",
        "\"Situated in the Eastern Ghats, the hill station is about 112 km southeast of Vishakhapatnam.\" \n",
        "x = re.findall(r\"\\bain\", txt)\n",
        "print(x)\n",
        "if x:\n",
        "  print(\"Yes, there is at least one match!\")\n",
        "else:\n",
        "  print(\"No match\")"
      ],
      "metadata": {
        "id": "XKaQuchZcA6o",
        "outputId": "2ea918aa-73aa-45dd-982a-059fef1fa115",
        "colab": {
          "base_uri": "https://localhost:8080/"
        }
      },
      "execution_count": 21,
      "outputs": [
        {
          "output_type": "stream",
          "name": "stdout",
          "text": [
            "[]\n",
            "No match\n"
          ]
        }
      ]
    },
    {
      "cell_type": "code",
      "source": [
        "#Check if \"ain\" is present, but NOT at the beginning of a word:\n",
        "import re\n",
        "txt = \"At an elevation of about 3200 ft, Araku is famous for its coffee plantations surrounded by beautiful\"\n",
        "\"gardens, streams, waterfalls and valleys that are covered with lush green forests\"\n",
        "\"Situated in the Eastern Ghats, the hill station is about 112 km southeast of Vishakhapatnam.\" \n",
        "x = re.findall(r\"\\Bain\", txt)\n",
        "print(x)\n",
        "if x:\n",
        "  print(\"Yes, there is at least one match!\")\n",
        "else:\n",
        "  print(\"No match\")"
      ],
      "metadata": {
        "id": "3p2Xx-3GcKeS",
        "outputId": "b321efc1-c3b5-4636-eb43-c26fcc37db86",
        "colab": {
          "base_uri": "https://localhost:8080/"
        }
      },
      "execution_count": 22,
      "outputs": [
        {
          "output_type": "stream",
          "name": "stdout",
          "text": [
            "[]\n",
            "No match\n"
          ]
        }
      ]
    },
    {
      "cell_type": "code",
      "source": [
        "#Check if the string contains any digits (numbers from 0-9):\n",
        "import re\n",
        "txt = \"At an elevation of about 3200 ft, Araku is famous for its coffee plantations surrounded by beautiful\"\n",
        "\"gardens, streams, waterfalls and valleys that are covered with lush green forests\"\n",
        "\"Situated in the Eastern Ghats, the hill station is about 112 km southeast of Vishakhapatnam.\" \n",
        "x = re.findall(\"\\d\", txt)\n",
        "print(x)\n",
        "if x:\n",
        "  print(\"Yes, there is at least one match!\")\n",
        "else:\n",
        "  print(\"No match\")"
      ],
      "metadata": {
        "id": "zKYNrY8tcYot",
        "outputId": "c148c9df-7c1d-4f82-89b3-b0fb92bba16d",
        "colab": {
          "base_uri": "https://localhost:8080/"
        }
      },
      "execution_count": 23,
      "outputs": [
        {
          "output_type": "stream",
          "name": "stdout",
          "text": [
            "['3', '2', '0', '0']\n",
            "Yes, there is at least one match!\n"
          ]
        }
      ]
    },
    {
      "cell_type": "code",
      "source": [
        "#Return a match at every no-digit character:\n",
        "import re\n",
        "txt =  \"At an elevation of about 3200 ft, Araku is famous for its coffee plantations surrounded by beautiful\"\n",
        "\"gardens, streams, waterfalls and valleys that are covered with lush green forests\"\n",
        "\"Situated in the Eastern Ghats, the hill station is about 112 km southeast of Vishakhapatnam.\" \n",
        "x = re.findall(\"\\D\", txt)\n",
        "print(x)\n",
        "if x:\n",
        "  print(\"Yes, there is at least one match!\")\n",
        "else:\n",
        "  print(\"No match\")"
      ],
      "metadata": {
        "id": "h2IZEIc4cgh9",
        "outputId": "8076ee74-0508-4245-d094-6ec9fafabfb7",
        "colab": {
          "base_uri": "https://localhost:8080/"
        }
      },
      "execution_count": 24,
      "outputs": [
        {
          "output_type": "stream",
          "name": "stdout",
          "text": [
            "['A', 't', ' ', 'a', 'n', ' ', 'e', 'l', 'e', 'v', 'a', 't', 'i', 'o', 'n', ' ', 'o', 'f', ' ', 'a', 'b', 'o', 'u', 't', ' ', ' ', 'f', 't', ',', ' ', 'A', 'r', 'a', 'k', 'u', ' ', 'i', 's', ' ', 'f', 'a', 'm', 'o', 'u', 's', ' ', 'f', 'o', 'r', ' ', 'i', 't', 's', ' ', 'c', 'o', 'f', 'f', 'e', 'e', ' ', 'p', 'l', 'a', 'n', 't', 'a', 't', 'i', 'o', 'n', 's', ' ', 's', 'u', 'r', 'r', 'o', 'u', 'n', 'd', 'e', 'd', ' ', 'b', 'y', ' ', 'b', 'e', 'a', 'u', 't', 'i', 'f', 'u', 'l']\n",
            "Yes, there is at least one match!\n"
          ]
        }
      ]
    },
    {
      "cell_type": "code",
      "source": [
        "#Return a match at every white-space character:\n",
        "import re\n",
        "txt = \"At an elevation of about 3200 ft, Araku is famous for its coffee plantations surrounded by beautiful\"\n",
        "\"gardens, streams, waterfalls and valleys that are covered with lush green forests\"\n",
        "\"Situated in the Eastern Ghats, the hill station is about 112 km southeast of Vishakhapatnam.\" \n",
        "x = re.findall(\"\\s\", txt)\n",
        "print(x)\n",
        "if x:\n",
        "  print(\"Yes, there is at least one match!\")\n",
        "else:\n",
        "  print(\"No match\")"
      ],
      "metadata": {
        "id": "t4pBZApTcoIs",
        "outputId": "3d219826-9251-435e-e848-5dcb345e096b",
        "colab": {
          "base_uri": "https://localhost:8080/"
        }
      },
      "execution_count": 25,
      "outputs": [
        {
          "output_type": "stream",
          "name": "stdout",
          "text": [
            "[' ', ' ', ' ', ' ', ' ', ' ', ' ', ' ', ' ', ' ', ' ', ' ', ' ', ' ', ' ', ' ']\n",
            "Yes, there is at least one match!\n"
          ]
        }
      ]
    },
    {
      "cell_type": "code",
      "source": [
        "#Return a match at every NON white-space character:\n",
        "import re\n",
        "txt =  \"At an elevation of about 3200 ft, Araku is famous for its coffee plantations surrounded by beautiful\"\n",
        "\"gardens, streams, waterfalls and valleys that are covered with lush green forests\"\n",
        "\"Situated in the Eastern Ghats, the hill station is about 112 km southeast of Vishakhapatnam.\" \n",
        "x = re.findall(\"\\S\", txt)\n",
        "print(x)\n",
        "if x:\n",
        "  print(\"Yes, there is at least one match!\")\n",
        "else:\n",
        "  print(\"No match\")"
      ],
      "metadata": {
        "id": "o9-hDufAcvg1",
        "outputId": "75f79442-b02c-40f4-b010-331ee058aed6",
        "colab": {
          "base_uri": "https://localhost:8080/"
        }
      },
      "execution_count": 26,
      "outputs": [
        {
          "output_type": "stream",
          "name": "stdout",
          "text": [
            "['A', 't', 'a', 'n', 'e', 'l', 'e', 'v', 'a', 't', 'i', 'o', 'n', 'o', 'f', 'a', 'b', 'o', 'u', 't', '3', '2', '0', '0', 'f', 't', ',', 'A', 'r', 'a', 'k', 'u', 'i', 's', 'f', 'a', 'm', 'o', 'u', 's', 'f', 'o', 'r', 'i', 't', 's', 'c', 'o', 'f', 'f', 'e', 'e', 'p', 'l', 'a', 'n', 't', 'a', 't', 'i', 'o', 'n', 's', 's', 'u', 'r', 'r', 'o', 'u', 'n', 'd', 'e', 'd', 'b', 'y', 'b', 'e', 'a', 'u', 't', 'i', 'f', 'u', 'l']\n",
            "Yes, there is at least one match!\n"
          ]
        }
      ]
    },
    {
      "cell_type": "code",
      "source": [
        "#Return a match at every NON word character (characters NOT between a and Z. Like \"!\", \"?\" white-space etc.):\n",
        "import re\n",
        "txt =  \"At an elevation of about 3200 ft, Araku is famous for its coffee plantations surrounded by beautiful\"\n",
        "\"gardens, streams, waterfalls and valleys that are covered with lush green forests\"\n",
        "\"Situated in the Eastern Ghats, the hill station is about 112 km southeast of Vishakhapatnam.\" \n",
        "x = re.findall(\"\\W\", txt)\n",
        "print(x)\n",
        "if x:\n",
        "  print(\"Yes, there is at least one match!\")\n",
        "else:\n",
        "  print(\"No match\")"
      ],
      "metadata": {
        "id": "9V4VqmVuc2lu",
        "outputId": "e5ab71c3-145b-4d55-fb64-6efde76ce217",
        "colab": {
          "base_uri": "https://localhost:8080/"
        }
      },
      "execution_count": 27,
      "outputs": [
        {
          "output_type": "stream",
          "name": "stdout",
          "text": [
            "[' ', ' ', ' ', ' ', ' ', ' ', ',', ' ', ' ', ' ', ' ', ' ', ' ', ' ', ' ', ' ', ' ']\n",
            "Yes, there is at least one match!\n"
          ]
        }
      ]
    },
    {
      "cell_type": "code",
      "source": [
        "#Check if the string ends with \"Spain\":\n",
        "import re\n",
        "txt = \"At an elevation of about 3200 ft, Araku is famous for its coffee plantations surrounded by beautiful\"\n",
        "\"gardens, streams, waterfalls and valleys that are covered with lush green forests\"\n",
        "\"Situated in the Eastern Ghats, the hill station is about 112 km southeast of Vishakhapatnam.\"  \n",
        "x = re.findall(\"compared\\Z\", txt)\n",
        "print(x)\n",
        "if x:\n",
        "  print(\"Yes, there is a match!\")\n",
        "else:\n",
        "  print(\"No match\")"
      ],
      "metadata": {
        "id": "GjQzFbPsc9YF",
        "outputId": "0777dc7c-3e6c-4de1-f9b2-73b221e5ebf4",
        "colab": {
          "base_uri": "https://localhost:8080/"
        }
      },
      "execution_count": 28,
      "outputs": [
        {
          "output_type": "stream",
          "name": "stdout",
          "text": [
            "[]\n",
            "No match\n"
          ]
        }
      ]
    },
    {
      "cell_type": "code",
      "source": [
        "## sets\n",
        "#Check if the string has any a, r, or n characters:\n",
        "import re\n",
        "txt =\"At an elevation of about 3200 ft, Araku is famous for its coffee plantations surrounded by beautiful\"\n",
        "\"gardens, streams, waterfalls and valleys that are covered with lush green forests\"\n",
        "\"Situated in the Eastern Ghats, the hill station is about 112 km southeast of Vishakhapatnam.\" \n",
        "x = re.findall(\"[day]\", txt)\n",
        "print(x)\n",
        "if x:\n",
        "  print(\"Yes, there is at least one match!\")\n",
        "else:\n",
        "  print(\"No match\")"
      ],
      "metadata": {
        "id": "yi-iFL-NdENC",
        "outputId": "3f6b8054-de7f-4d8a-82f6-98ea44aae2a7",
        "colab": {
          "base_uri": "https://localhost:8080/"
        }
      },
      "execution_count": 29,
      "outputs": [
        {
          "output_type": "stream",
          "name": "stdout",
          "text": [
            "['a', 'a', 'a', 'a', 'a', 'a', 'a', 'd', 'd', 'y', 'a']\n",
            "Yes, there is at least one match!\n"
          ]
        }
      ]
    },
    {
      "cell_type": "code",
      "source": [
        "#Check if the string has any characters between a and n:\n",
        "import re\n",
        "txt =\"At an elevation of about 3200 ft, Araku is famous for its coffee plantations surrounded by beautiful\"\n",
        "\"gardens, streams, waterfalls and valleys that are covered with lush green forests\"\n",
        "\"Situated in the Eastern Ghats, the hill station is about 112 km southeast of Vishakhapatnam.\" \n",
        "x = re.findall(\"[a-c]\", txt)\n",
        "print(x)\n",
        "if x:\n",
        "  print(\"Yes, there is at least one match!\")\n",
        "else:\n",
        "  print(\"No match\")"
      ],
      "metadata": {
        "id": "o0s3j8jBdLC_",
        "outputId": "09c85eb3-c204-45ad-db32-d67d8db6d7fd",
        "colab": {
          "base_uri": "https://localhost:8080/"
        }
      },
      "execution_count": 30,
      "outputs": [
        {
          "output_type": "stream",
          "name": "stdout",
          "text": [
            "['a', 'a', 'a', 'b', 'a', 'a', 'c', 'a', 'a', 'b', 'b', 'a']\n",
            "Yes, there is at least one match!\n"
          ]
        }
      ]
    },
    {
      "cell_type": "code",
      "source": [
        "#Check if the string has other characters than a, r, or n:\n",
        "import re\n",
        "txt =\"At an elevation of about 3200 ft, Araku is famous for its coffee plantations surrounded by beautiful\"\n",
        "\"gardens, streams, waterfalls and valleys that are covered with lush green forests\"\n",
        "\"Situated in the Eastern Ghats, the hill station is about 112 km southeast of Vishakhapatnam.\" \n",
        "x = re.findall(\"[^ca]\", txt)\n",
        "print(x)\n",
        "if x:\n",
        "  print(\"Yes, there is at least one match!\")\n",
        "else:\n",
        "  print(\"No match\")"
      ],
      "metadata": {
        "id": "7QRFsKXxdRSf",
        "outputId": "3314a433-4c6a-4067-e4ed-ba5ac305b8f6",
        "colab": {
          "base_uri": "https://localhost:8080/"
        }
      },
      "execution_count": 31,
      "outputs": [
        {
          "output_type": "stream",
          "name": "stdout",
          "text": [
            "['A', 't', ' ', 'n', ' ', 'e', 'l', 'e', 'v', 't', 'i', 'o', 'n', ' ', 'o', 'f', ' ', 'b', 'o', 'u', 't', ' ', '3', '2', '0', '0', ' ', 'f', 't', ',', ' ', 'A', 'r', 'k', 'u', ' ', 'i', 's', ' ', 'f', 'm', 'o', 'u', 's', ' ', 'f', 'o', 'r', ' ', 'i', 't', 's', ' ', 'o', 'f', 'f', 'e', 'e', ' ', 'p', 'l', 'n', 't', 't', 'i', 'o', 'n', 's', ' ', 's', 'u', 'r', 'r', 'o', 'u', 'n', 'd', 'e', 'd', ' ', 'b', 'y', ' ', 'b', 'e', 'u', 't', 'i', 'f', 'u', 'l']\n",
            "Yes, there is at least one match!\n"
          ]
        }
      ]
    },
    {
      "cell_type": "code",
      "source": [
        "#Check if the string has any 0, 1, 2, or 3 digits:\n",
        "import re\n",
        "txt =\"At an elevation of about 3200 ft, Araku is famous for its coffee plantations surrounded by beautiful\"\n",
        "\"gardens, streams, waterfalls and valleys that are covered with lush green forests\"\n",
        "\"Situated in the Eastern Ghats, the hill station is about 112 km southeast of Vishakhapatnam.\" \n",
        "x = re.findall(\"[0123]\", txt)\n",
        "print(x)\n",
        "if x:\n",
        "  print(\"Yes, there is at least one match!\")\n",
        "else:\n",
        "  print(\"No match\")"
      ],
      "metadata": {
        "id": "NJtpoTiVdZvn",
        "outputId": "2cadd0af-eaaf-4a1c-becc-1ffb591ac69d",
        "colab": {
          "base_uri": "https://localhost:8080/"
        }
      },
      "execution_count": 32,
      "outputs": [
        {
          "output_type": "stream",
          "name": "stdout",
          "text": [
            "['3', '2', '0', '0']\n",
            "Yes, there is at least one match!\n"
          ]
        }
      ]
    },
    {
      "cell_type": "code",
      "source": [
        "#Check if the string has any digits:\n",
        "import re\n",
        "txt = \"At an elevation of about 3200 ft, Araku is famous for its coffee plantations surrounded by beautiful\"\n",
        "\"gardens, streams, waterfalls and valleys that are covered with lush green forests\"\n",
        "\"Situated in the Eastern Ghats, the hill station is about 112 km southeast of Vishakhapatnam.\" \n",
        "x = re.findall(\"[0-9]\", txt)\n",
        "print(x)\n",
        "if x:\n",
        "  print(\"Yes, there is at least one match!\")\n",
        "else:\n",
        "  print(\"No match\")"
      ],
      "metadata": {
        "id": "ouc0jcF4dfNS",
        "outputId": "813f444b-8abf-4b72-b7dd-e355c24e71b0",
        "colab": {
          "base_uri": "https://localhost:8080/"
        }
      },
      "execution_count": 33,
      "outputs": [
        {
          "output_type": "stream",
          "name": "stdout",
          "text": [
            "['3', '2', '0', '0']\n",
            "Yes, there is at least one match!\n"
          ]
        }
      ]
    },
    {
      "cell_type": "code",
      "source": [
        "#Check if the string has any two-digit numbers, from 00 to 59:\n",
        "import re\n",
        "txt = \"At an elevation of about 3200 ft, Araku is famous for its coffee plantations surrounded by beautiful\"\n",
        "\"gardens, streams, waterfalls and valleys that are covered with lush green forests\"\n",
        "\"Situated in the Eastern Ghats, the hill station is about 112 km southeast of Vishakhapatnam.\" \n",
        "x = re.findall(\"[0-5][0-9]\", txt)\n",
        "print(x)\n",
        "if x:\n",
        "  print(\"Yes, there is at least one match!\")\n",
        "else:\n",
        "  print(\"No match\")"
      ],
      "metadata": {
        "id": "Guqhtenodk4G",
        "outputId": "b24c7eae-aa22-409d-b89f-39ae5f9db260",
        "colab": {
          "base_uri": "https://localhost:8080/"
        }
      },
      "execution_count": 34,
      "outputs": [
        {
          "output_type": "stream",
          "name": "stdout",
          "text": [
            "['32', '00']\n",
            "Yes, there is at least one match!\n"
          ]
        }
      ]
    },
    {
      "cell_type": "code",
      "source": [
        "#Check if the string has any characters from a to z lower case, and A to Z upper case:\n",
        "import re\n",
        "txt =  \"At an elevation of about 3200 ft, Araku is famous for its coffee plantations surrounded by beautiful\"\n",
        "\"gardens, streams, waterfalls and valleys that are covered with lush green forests\"\n",
        "\"Situated in the Eastern Ghats, the hill station is about 112 km southeast of Vishakhapatnam.\" \n",
        "x = re.findall(\"[a-zA-Z]\", txt)\n",
        "print(x)\n",
        "if x:\n",
        "  print(\"Yes, there is at least one match!\")\n",
        "else:\n",
        "  print(\"No match\")"
      ],
      "metadata": {
        "id": "iPZ_g9C-dqF_",
        "outputId": "0c6bf928-5b72-4202-b411-c2c9f3472a73",
        "colab": {
          "base_uri": "https://localhost:8080/"
        }
      },
      "execution_count": 35,
      "outputs": [
        {
          "output_type": "stream",
          "name": "stdout",
          "text": [
            "['A', 't', 'a', 'n', 'e', 'l', 'e', 'v', 'a', 't', 'i', 'o', 'n', 'o', 'f', 'a', 'b', 'o', 'u', 't', 'f', 't', 'A', 'r', 'a', 'k', 'u', 'i', 's', 'f', 'a', 'm', 'o', 'u', 's', 'f', 'o', 'r', 'i', 't', 's', 'c', 'o', 'f', 'f', 'e', 'e', 'p', 'l', 'a', 'n', 't', 'a', 't', 'i', 'o', 'n', 's', 's', 'u', 'r', 'r', 'o', 'u', 'n', 'd', 'e', 'd', 'b', 'y', 'b', 'e', 'a', 'u', 't', 'i', 'f', 'u', 'l']\n",
            "Yes, there is at least one match!\n"
          ]
        }
      ]
    },
    {
      "cell_type": "code",
      "source": [
        "#Check if the string has any + characters:\n",
        "import re\n",
        "txt =  \"At an elevation of about 3200 ft, Araku is famous for its coffee plantations surrounded by beautiful\"\n",
        "\"gardens, streams, waterfalls and valleys that are covered with lush green forests\"\n",
        "\"Situated in the Eastern Ghats, the hill station is about 112 km southeast of Vishakhapatnam.\" \n",
        "x = re.findall(\"[+]\", txt)\n",
        "print(x)\n",
        "if x:\n",
        "  print(\"Yes, there is at least one match!\")\n",
        "else:\n",
        "  print(\"No match\")"
      ],
      "metadata": {
        "id": "uKQq0TlIdx0h",
        "outputId": "35c238dc-3722-460f-ae2f-fea4e2cdb84b",
        "colab": {
          "base_uri": "https://localhost:8080/"
        }
      },
      "execution_count": 38,
      "outputs": [
        {
          "output_type": "stream",
          "name": "stdout",
          "text": [
            "[]\n",
            "No match\n"
          ]
        }
      ]
    },
    {
      "cell_type": "code",
      "source": [
        "## Findall Function\n",
        "import re\n",
        "txt = \"At an elevation of about 3200 ft, Araku is famous for its coffee plantations surrounded by beautiful\"\n",
        "\"gardens, streams, waterfalls and valleys that are covered with lush green forests\"\n",
        "\"Situated in the Eastern Ghats, the hill station is about 112 km southeast of Vishakhapatnam.\" \n",
        "x = re.findall(\"ai\", txt)\n",
        "print(x)"
      ],
      "metadata": {
        "id": "H6qGBNdud3_J",
        "outputId": "d907f429-18a0-4311-f39f-102e096cce56",
        "colab": {
          "base_uri": "https://localhost:8080/"
        }
      },
      "execution_count": 39,
      "outputs": [
        {
          "output_type": "stream",
          "name": "stdout",
          "text": [
            "[]\n"
          ]
        }
      ]
    },
    {
      "cell_type": "code",
      "source": [
        "## Return an empty list if no match was found:\n",
        "import re\n",
        "txt = \"At an elevation of about 3200 ft, Araku is famous for its coffee plantations surrounded by beautiful\"\n",
        "\"gardens, streams, waterfalls and valleys that are covered with lush green forests\"\n",
        "\"Situated in the Eastern Ghats, the hill station is about 112 km southeast of Vishakhapatnam.\" \n",
        "x = re.findall(\"Portugal\", txt)\n",
        "print(x)"
      ],
      "metadata": {
        "id": "FVF9irvhd5DA",
        "outputId": "7ee5d9ab-215e-4ac2-d604-457afdfc0dc6",
        "colab": {
          "base_uri": "https://localhost:8080/"
        }
      },
      "execution_count": 40,
      "outputs": [
        {
          "output_type": "stream",
          "name": "stdout",
          "text": [
            "[]\n"
          ]
        }
      ]
    },
    {
      "cell_type": "code",
      "source": [
        "## sub function\n",
        "import re\n",
        "txt = \"At an elevation of about 3200 ft, Araku is famous for its coffee plantations surrounded by beautiful\"\n",
        "\"gardens, streams, waterfalls and valleys that are covered with lush green forests\"\n",
        "\"Situated in the Eastern Ghats, the hill station is about 112 km southeast of Vishakhapatnam.\" \n",
        "x = re.sub(\"\\s\", \"9\", txt)\n",
        "print(x)"
      ],
      "metadata": {
        "id": "0oTBDcgLeap5",
        "outputId": "20ea057c-3d35-4825-f553-7c5183fa68aa",
        "colab": {
          "base_uri": "https://localhost:8080/"
        }
      },
      "execution_count": 41,
      "outputs": [
        {
          "output_type": "stream",
          "name": "stdout",
          "text": [
            "At9an9elevation9of9about932009ft,9Araku9is9famous9for9its9coffee9plantations9surrounded9by9beautiful\n"
          ]
        }
      ]
    },
    {
      "cell_type": "code",
      "source": [
        "## Replace the first 2 occurrences:\n",
        "import re\n",
        "txt =\"At an elevation of about 3200 ft, Araku is famous for its coffee plantations surrounded by beautiful\"\n",
        "\"gardens, streams, waterfalls and valleys that are covered with lush green forests\"\n",
        "\"Situated in the Eastern Ghats, the hill station is about 112 km southeast of Vishakhapatnam.\" \n",
        "x = re.sub(\"\\s\", \"9\", txt, 2)\n",
        "print(x)"
      ],
      "metadata": {
        "id": "Ug0ERiOMeioB",
        "outputId": "a8a34f0b-bc7a-4ff8-bc58-cfa31405b02d",
        "colab": {
          "base_uri": "https://localhost:8080/"
        }
      },
      "execution_count": 42,
      "outputs": [
        {
          "output_type": "stream",
          "name": "stdout",
          "text": [
            "At9an9elevation of about 3200 ft, Araku is famous for its coffee plantations surrounded by beautiful\n"
          ]
        }
      ]
    },
    {
      "cell_type": "code",
      "source": [
        "## Match function\n",
        "##this will print an object\n",
        "import re\n",
        "txt = \"At an elevation of about 3200 ft, Araku is famous for its coffee plantations surrounded by beautiful\"\n",
        "\"gardens, streams, waterfalls and valleys that are covered with lush green forests\"\n",
        "\"Situated in the Eastern Ghats, the hill station is about 112 km southeast of Vishakhapatnam.\" \n",
        "x = re.search(\"ai\", txt)\n",
        "print(x)"
      ],
      "metadata": {
        "id": "Y2b84Qnyes-D",
        "outputId": "a69c8e70-e9f2-4387-c8d5-bfcc2ea9ae95",
        "colab": {
          "base_uri": "https://localhost:8080/"
        }
      },
      "execution_count": 43,
      "outputs": [
        {
          "output_type": "stream",
          "name": "stdout",
          "text": [
            "None\n"
          ]
        }
      ]
    },
    {
      "cell_type": "code",
      "source": [
        "## Print the position (start- and end-position) of the first match occurrence.\n",
        "import re\n",
        "txt =\"At an elevation of about 3200 ft, Araku is famous for its coffee plantations surrounded by beautiful\"\n",
        "\"gardens, streams, waterfalls and valleys that are covered with lush green forests\"\n",
        "\"Situated in the Eastern Ghats, the hill station is about 112 km southeast of Vishakhapatnam.\"  \n",
        "x = re.search(r\"\\bb\\w+\", txt)\n",
        "print(x.span())"
      ],
      "metadata": {
        "id": "cN7n5L-NexWF",
        "outputId": "9a3490d9-9f35-4eaa-dcfa-2b6110f9875d",
        "colab": {
          "base_uri": "https://localhost:8080/"
        }
      },
      "execution_count": 44,
      "outputs": [
        {
          "output_type": "stream",
          "name": "stdout",
          "text": [
            "(88, 90)\n"
          ]
        }
      ]
    },
    {
      "cell_type": "code",
      "source": [
        "## Print the string passed into the function:\n",
        "import re\n",
        "txt = \"At an elevation of about 3200 ft, Araku is famous for its coffee plantations surrounded by beautiful\"\n",
        "\"gardens, streams, waterfalls and valleys that are covered with lush green forests\"\n",
        "\"Situated in the Eastern Ghats, the hill station is about 112 km southeast of Vishakhapatnam.\"  \n",
        "x = re.search(r\"\\be\\w+\", txt)\n",
        "print(x.string)"
      ],
      "metadata": {
        "id": "W8_8aWame57A"
      },
      "execution_count": null,
      "outputs": []
    },
    {
      "cell_type": "code",
      "source": [
        "## Print the part of the string where there was a match.\n",
        "import re\n",
        "txt = \"you are 101 tymes beautiful today compared to everyday\"\n",
        "x = re.search(r\"\\bt\\w+\", txt)\n",
        "print(x.group())"
      ],
      "metadata": {
        "id": "8iSOc_Pxfm1X",
        "outputId": "8000f1cd-bee8-47da-a587-6f1175c7ff7b",
        "colab": {
          "base_uri": "https://localhost:8080/"
        }
      },
      "execution_count": 47,
      "outputs": [
        {
          "output_type": "stream",
          "name": "stdout",
          "text": [
            "tymes\n"
          ]
        }
      ]
    }
  ]
}