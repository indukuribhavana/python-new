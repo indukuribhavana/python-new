{
  "nbformat": 4,
  "nbformat_minor": 0,
  "metadata": {
    "colab": {
      "name": "Python RegEx.ipynb",
      "provenance": [],
      "authorship_tag": "ABX9TyNImOtWc/CQ1O+zolti1zLs",
      "include_colab_link": true
    },
    "kernelspec": {
      "name": "python3",
      "display_name": "Python 3"
    },
    "language_info": {
      "name": "python"
    }
  },
  "cells": [
    {
      "cell_type": "markdown",
      "metadata": {
        "id": "view-in-github",
        "colab_type": "text"
      },
      "source": [
        "<a href=\"https://colab.research.google.com/github/indukuribhavana/python-new/blob/module-4/Python_RegEx.ipynb\" target=\"_parent\"><img src=\"https://colab.research.google.com/assets/colab-badge.svg\" alt=\"Open In Colab\"/></a>"
      ]
    },
    {
      "cell_type": "code",
      "execution_count": null,
      "metadata": {
        "colab": {
          "base_uri": "https://localhost:8080/"
        },
        "id": "PzIo0fspKADf",
        "outputId": "a664378e-1b4b-4810-cdd8-4b1048d7cb5e"
      },
      "outputs": [
        {
          "output_type": "stream",
          "name": "stdout",
          "text": [
            "match\n"
          ]
        }
      ],
      "source": [
        "##Print a list of all matches\n",
        "txt = \"I am Bhavana studying in Gitam university first year\"\n",
        "import re\n",
        "x = re.search(\"Bhavana\",txt)\n",
        "if x:\n",
        "  print(\"match\")\n",
        "else:\n",
        "    print(\"not matched\")"
      ]
    },
    {
      "cell_type": "code",
      "source": [
        "###Return an empty list if no match was found\n",
        "txt = \"I am Bhavana studying in Gitam university first year\"\n",
        "import re\n",
        "x = re.search(\"Rakshitha\",txt)\n",
        "if x:\n",
        "  print(\"match\")\n",
        "else:\n",
        "    print(\"not matched\")"
      ],
      "metadata": {
        "colab": {
          "base_uri": "https://localhost:8080/"
        },
        "id": "1jUxFW1JLsb7",
        "outputId": "3d59bfe7-9e7d-4f4c-f0cd-4681bb3c5a45"
      },
      "execution_count": null,
      "outputs": [
        {
          "output_type": "stream",
          "name": "stdout",
          "text": [
            "not matched\n"
          ]
        }
      ]
    },
    {
      "cell_type": "code",
      "source": [
        "##Print a list of all matches\n",
        "txt = \"At an elevation of about 3200 ft, Araku is famous for its coffee plantations surrounded by beautiful gardens, streams, waterfalls and valleys that are covered with lush green forests. Situated in the Eastern Ghats, the hill station is about 112 km southeast of Vishakhapatnam.\"\n",
        "import re\n",
        "x=re.search(\"elevation\",txt)\n",
        "if x:\n",
        "  print(\"match\")\n",
        "else:\n",
        "  print(\"not matched\")"
      ],
      "metadata": {
        "colab": {
          "base_uri": "https://localhost:8080/"
        },
        "id": "PRTgLP3VL8zS",
        "outputId": "46da21ba-0248-4b86-824e-171c57dd0923"
      },
      "execution_count": null,
      "outputs": [
        {
          "output_type": "stream",
          "name": "stdout",
          "text": [
            "match\n"
          ]
        }
      ]
    },
    {
      "cell_type": "code",
      "source": [
        "txt = \"At an elevation of about 3200 ft, Araku is famous for its coffee plantations surrounded by beautiful\"\n",
        "\"gardens, streams, waterfalls and valleys that are covered with lush green forests\"\n",
        "\"Situated in the Eastern Ghats, the hill station is about 112 km southeast of Vishakhapatnam.\"\n",
        "import re\n",
        "x = re.findall(\"[a-i]\",txt)\n",
        "if x:\n",
        " print(x)"
      ],
      "metadata": {
        "colab": {
          "base_uri": "https://localhost:8080/"
        },
        "id": "sX-8V1NjNZ_a",
        "outputId": "214a1669-da8c-4c8e-d7b5-49deacf32863"
      },
      "execution_count": null,
      "outputs": [
        {
          "output_type": "stream",
          "name": "stdout",
          "text": [
            "['a', 'e', 'e', 'a', 'i', 'f', 'a', 'b', 'f', 'a', 'i', 'f', 'a', 'f', 'i', 'c', 'f', 'f', 'e', 'e', 'a', 'a', 'i', 'd', 'e', 'd', 'b', 'b', 'e', 'a', 'i', 'f']\n"
          ]
        }
      ]
    },
    {
      "cell_type": "code",
      "source": [
        "###Search for the first white-space character in the string\n",
        "txt = \"a6\"\n",
        "import re\n",
        "x = re.split(\"\\s\", txt, 1)\n",
        "print(x)"
      ],
      "metadata": {
        "colab": {
          "base_uri": "https://localhost:8080/"
        },
        "id": "33FWdL_pOaQi",
        "outputId": "fcbb5a21-73ab-4a99-b7a6-e2eec4c2dd2e"
      },
      "execution_count": null,
      "outputs": [
        {
          "output_type": "stream",
          "name": "stdout",
          "text": [
            "['a6']\n"
          ]
        }
      ]
    },
    {
      "cell_type": "code",
      "source": [
        "###Split at each white-space character\n",
        "txt = \"At an elevation of about 3200 ft, Araku is famous for its coffee plantations surrounded by beautiful\"\n",
        "\"gardens, streams, waterfalls and valleys that are covered with lush green forests\"\n",
        "\"Situated in the Eastern Ghats, the hill station is about 112 km southeast of Vishakhapatnam.\"\n",
        "import re\n",
        "x = re.split(\"\\s\", txt)\n",
        "print(x)"
      ],
      "metadata": {
        "colab": {
          "base_uri": "https://localhost:8080/"
        },
        "id": "9q0bBuIJqF5I",
        "outputId": "4449c02e-f02c-4f71-c0bf-e44dc8aaea7a"
      },
      "execution_count": 1,
      "outputs": [
        {
          "output_type": "stream",
          "name": "stdout",
          "text": [
            "['At', 'an', 'elevation', 'of', 'about', '3200', 'ft,', 'Araku', 'is', 'famous', 'for', 'its', 'coffee', 'plantations', 'surrounded', 'by', 'beautiful']\n"
          ]
        }
      ]
    },
    {
      "cell_type": "code",
      "source": [
        "###Replace every white-space character with the number 5\n",
        "txt = \"At an elevation of about 3200 ft, Araku is famous for its coffee plantations surrounded by beautiful\"\n",
        "\"gardens, streams, waterfalls and valleys that are covered with lush green forests\"\n",
        "\"Situated in the Eastern Ghats, the hill station is about 112 km southeast of Vishakhapatnam.\"\n",
        "import re\n",
        "x = re.sub(\"\\s\", \"5\", txt)\n",
        "print(x)"
      ],
      "metadata": {
        "colab": {
          "base_uri": "https://localhost:8080/"
        },
        "id": "0v5BhsfKq2Vx",
        "outputId": "6956931f-60e1-4076-e4bc-794ff69aeec3"
      },
      "execution_count": 7,
      "outputs": [
        {
          "output_type": "stream",
          "name": "stdout",
          "text": [
            "At5an5elevation5of5about532005ft,5Araku5is5famous5for5its5coffee5plantations5surrounded5by5beautiful\n"
          ]
        }
      ]
    },
    {
      "cell_type": "code",
      "source": [
        "###Replace the first 2 occurrences:\n",
        "txt = \"At an elevation of about 3200 ft, Araku is famous for its coffee plantations surrounded by beautiful\"\n",
        "\"gardens, streams, waterfalls and valleys that are covered with lush green forests\"\n",
        "\"Situated in the Eastern Ghats, the hill station is about 112 km southeast of Vishakhapatnam.\"\n",
        "import re\n",
        "x = re.sub(\"\\s\", \"8\", txt, 3)\n",
        "print(x)"
      ],
      "metadata": {
        "colab": {
          "base_uri": "https://localhost:8080/"
        },
        "id": "LYs62d002pUY",
        "outputId": "1d57f71f-c571-4fe0-d756-d876ca10fc8c"
      },
      "execution_count": 5,
      "outputs": [
        {
          "output_type": "stream",
          "name": "stdout",
          "text": [
            "At8an8elevation8of about 3200 ft, Araku is famous for its coffee plantations surrounded by beautiful\n"
          ]
        }
      ]
    },
    {
      "cell_type": "code",
      "source": [
        ""
      ],
      "metadata": {
        "id": "YgsLsWWj3OIy"
      },
      "execution_count": null,
      "outputs": []
    }
  ]
}